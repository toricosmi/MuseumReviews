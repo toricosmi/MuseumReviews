{
  "cells": [
    {
      "cell_type": "markdown",
      "source": [
        "Импорт и установка нужных библиотек"
      ],
      "metadata": {
        "id": "wMA3ix0uaDy-"
      }
    },
    {
      "cell_type": "code",
      "execution_count": null,
      "metadata": {
        "colab": {
          "base_uri": "https://localhost:8080/"
        },
        "id": "tAoFMuLFyqyM",
        "outputId": "063517b9-0659-46da-f5ac-53f00076ede1"
      },
      "outputs": [
        {
          "output_type": "stream",
          "name": "stdout",
          "text": [
            "Requirement already satisfied: datasets in /usr/local/lib/python3.10/dist-packages (3.2.0)\n",
            "Requirement already satisfied: filelock in /usr/local/lib/python3.10/dist-packages (from datasets) (3.16.1)\n",
            "Requirement already satisfied: numpy>=1.17 in /usr/local/lib/python3.10/dist-packages (from datasets) (1.26.4)\n",
            "Requirement already satisfied: pyarrow>=15.0.0 in /usr/local/lib/python3.10/dist-packages (from datasets) (17.0.0)\n",
            "Requirement already satisfied: dill<0.3.9,>=0.3.0 in /usr/local/lib/python3.10/dist-packages (from datasets) (0.3.8)\n",
            "Requirement already satisfied: pandas in /usr/local/lib/python3.10/dist-packages (from datasets) (2.2.2)\n",
            "Requirement already satisfied: requests>=2.32.2 in /usr/local/lib/python3.10/dist-packages (from datasets) (2.32.3)\n",
            "Requirement already satisfied: tqdm>=4.66.3 in /usr/local/lib/python3.10/dist-packages (from datasets) (4.67.1)\n",
            "Requirement already satisfied: xxhash in /usr/local/lib/python3.10/dist-packages (from datasets) (3.5.0)\n",
            "Requirement already satisfied: multiprocess<0.70.17 in /usr/local/lib/python3.10/dist-packages (from datasets) (0.70.16)\n",
            "Requirement already satisfied: fsspec<=2024.9.0,>=2023.1.0 in /usr/local/lib/python3.10/dist-packages (from fsspec[http]<=2024.9.0,>=2023.1.0->datasets) (2024.9.0)\n",
            "Requirement already satisfied: aiohttp in /usr/local/lib/python3.10/dist-packages (from datasets) (3.11.10)\n",
            "Requirement already satisfied: huggingface-hub>=0.23.0 in /usr/local/lib/python3.10/dist-packages (from datasets) (0.27.0)\n",
            "Requirement already satisfied: packaging in /usr/local/lib/python3.10/dist-packages (from datasets) (24.2)\n",
            "Requirement already satisfied: pyyaml>=5.1 in /usr/local/lib/python3.10/dist-packages (from datasets) (6.0.2)\n",
            "Requirement already satisfied: aiohappyeyeballs>=2.3.0 in /usr/local/lib/python3.10/dist-packages (from aiohttp->datasets) (2.4.4)\n",
            "Requirement already satisfied: aiosignal>=1.1.2 in /usr/local/lib/python3.10/dist-packages (from aiohttp->datasets) (1.3.2)\n",
            "Requirement already satisfied: async-timeout<6.0,>=4.0 in /usr/local/lib/python3.10/dist-packages (from aiohttp->datasets) (4.0.3)\n",
            "Requirement already satisfied: attrs>=17.3.0 in /usr/local/lib/python3.10/dist-packages (from aiohttp->datasets) (24.3.0)\n",
            "Requirement already satisfied: frozenlist>=1.1.1 in /usr/local/lib/python3.10/dist-packages (from aiohttp->datasets) (1.5.0)\n",
            "Requirement already satisfied: multidict<7.0,>=4.5 in /usr/local/lib/python3.10/dist-packages (from aiohttp->datasets) (6.1.0)\n",
            "Requirement already satisfied: propcache>=0.2.0 in /usr/local/lib/python3.10/dist-packages (from aiohttp->datasets) (0.2.1)\n",
            "Requirement already satisfied: yarl<2.0,>=1.17.0 in /usr/local/lib/python3.10/dist-packages (from aiohttp->datasets) (1.18.3)\n",
            "Requirement already satisfied: typing-extensions>=3.7.4.3 in /usr/local/lib/python3.10/dist-packages (from huggingface-hub>=0.23.0->datasets) (4.12.2)\n",
            "Requirement already satisfied: charset-normalizer<4,>=2 in /usr/local/lib/python3.10/dist-packages (from requests>=2.32.2->datasets) (3.4.0)\n",
            "Requirement already satisfied: idna<4,>=2.5 in /usr/local/lib/python3.10/dist-packages (from requests>=2.32.2->datasets) (3.10)\n",
            "Requirement already satisfied: urllib3<3,>=1.21.1 in /usr/local/lib/python3.10/dist-packages (from requests>=2.32.2->datasets) (2.2.3)\n",
            "Requirement already satisfied: certifi>=2017.4.17 in /usr/local/lib/python3.10/dist-packages (from requests>=2.32.2->datasets) (2024.12.14)\n",
            "Requirement already satisfied: python-dateutil>=2.8.2 in /usr/local/lib/python3.10/dist-packages (from pandas->datasets) (2.8.2)\n",
            "Requirement already satisfied: pytz>=2020.1 in /usr/local/lib/python3.10/dist-packages (from pandas->datasets) (2024.2)\n",
            "Requirement already satisfied: tzdata>=2022.7 in /usr/local/lib/python3.10/dist-packages (from pandas->datasets) (2024.2)\n",
            "Requirement already satisfied: six>=1.5 in /usr/local/lib/python3.10/dist-packages (from python-dateutil>=2.8.2->pandas->datasets) (1.17.0)\n"
          ]
        }
      ],
      "source": [
        "pip install datasets"
      ]
    },
    {
      "cell_type": "code",
      "execution_count": null,
      "metadata": {
        "colab": {
          "base_uri": "https://localhost:8080/"
        },
        "id": "whptuMcSrvUR",
        "outputId": "e2ce0e61-f616-4c0d-9fa8-010f49bdff70"
      },
      "outputs": [
        {
          "output_type": "stream",
          "name": "stdout",
          "text": [
            "Drive already mounted at /content/drive; to attempt to forcibly remount, call drive.mount(\"/content/drive\", force_remount=True).\n"
          ]
        }
      ],
      "source": [
        "from google.colab import drive\n",
        "drive.mount('/content/drive')\n",
        "import pandas as pd\n",
        "from sklearn.metrics import accuracy_score, f1_score\n",
        "import torch\n",
        "from transformers import AutoTokenizer, AutoModelForSequenceClassification\n",
        "from datasets import Dataset\n",
        "from sklearn.metrics import confusion_matrix\n",
        "import seaborn as sns\n",
        "import matplotlib.pyplot as plt\n",
        "from sklearn.metrics import classification_report\n",
        "from sklearn.model_selection import train_test_split\n",
        "from sklearn.utils import resample\n",
        "from transformers import AutoTokenizer, AutoModelForSequenceClassification, Trainer, TrainingArguments"
      ]
    },
    {
      "cell_type": "markdown",
      "source": [
        "Чтение уже размеченного датасета с отзывами"
      ],
      "metadata": {
        "id": "yCHpNjxMaM5H"
      }
    },
    {
      "cell_type": "code",
      "execution_count": null,
      "metadata": {
        "id": "Zoy5oItVrznB"
      },
      "outputs": [],
      "source": [
        "data = pd.read_excel('/content/drive/MyDrive/Colab Notebooks/мифи семестры/1 семестр/хакатон/combined_reviews_with_labels2.xlsx', engine='openpyxl')"
      ]
    },
    {
      "cell_type": "code",
      "execution_count": null,
      "metadata": {
        "colab": {
          "base_uri": "https://localhost:8080/",
          "height": 423
        },
        "id": "qmZPmY19xJoB",
        "outputId": "f2aa6256-f028-43d6-acfc-c7d0f29ac364"
      },
      "outputs": [
        {
          "output_type": "execute_result",
          "data": {
            "text/plain": [
              "      Index                                             Review  label\n",
              "0         1  Была на выставке Васнецовы. Люблю Третьяковку,...      1\n",
              "1         2  Всё лучшее в живописи и классическом искусстве...      1\n",
              "2         3  Великолепная коллекция русского авангарда. Неп...      1\n",
              "3         4  Отличное культурное пространство. Были на осно...      0\n",
              "4         5  Большая, серьезная, просторная, тихая, взросла...      1\n",
              "...     ...                                                ...    ...\n",
              "1465    593  Современное искусство. Малевич, Кандинский, Ша...      1\n",
              "1466    596  Очень понравилась выставка Васнецовых. И конеч...      1\n",
              "1467    597                                  Атмосферное место      1\n",
              "1468    598  Была на выставкк \"Золотая черепаха\". Фото о пр...      1\n",
              "1469    600  Своеобразное место. Но дети уже два года вспом...      0\n",
              "\n",
              "[1470 rows x 3 columns]"
            ],
            "text/html": [
              "\n",
              "  <div id=\"df-aa7ce75d-0208-4a08-b572-9001e5cf3dc3\" class=\"colab-df-container\">\n",
              "    <div>\n",
              "<style scoped>\n",
              "    .dataframe tbody tr th:only-of-type {\n",
              "        vertical-align: middle;\n",
              "    }\n",
              "\n",
              "    .dataframe tbody tr th {\n",
              "        vertical-align: top;\n",
              "    }\n",
              "\n",
              "    .dataframe thead th {\n",
              "        text-align: right;\n",
              "    }\n",
              "</style>\n",
              "<table border=\"1\" class=\"dataframe\">\n",
              "  <thead>\n",
              "    <tr style=\"text-align: right;\">\n",
              "      <th></th>\n",
              "      <th>Index</th>\n",
              "      <th>Review</th>\n",
              "      <th>label</th>\n",
              "    </tr>\n",
              "  </thead>\n",
              "  <tbody>\n",
              "    <tr>\n",
              "      <th>0</th>\n",
              "      <td>1</td>\n",
              "      <td>Была на выставке Васнецовы. Люблю Третьяковку,...</td>\n",
              "      <td>1</td>\n",
              "    </tr>\n",
              "    <tr>\n",
              "      <th>1</th>\n",
              "      <td>2</td>\n",
              "      <td>Всё лучшее в живописи и классическом искусстве...</td>\n",
              "      <td>1</td>\n",
              "    </tr>\n",
              "    <tr>\n",
              "      <th>2</th>\n",
              "      <td>3</td>\n",
              "      <td>Великолепная коллекция русского авангарда. Неп...</td>\n",
              "      <td>1</td>\n",
              "    </tr>\n",
              "    <tr>\n",
              "      <th>3</th>\n",
              "      <td>4</td>\n",
              "      <td>Отличное культурное пространство. Были на осно...</td>\n",
              "      <td>0</td>\n",
              "    </tr>\n",
              "    <tr>\n",
              "      <th>4</th>\n",
              "      <td>5</td>\n",
              "      <td>Большая, серьезная, просторная, тихая, взросла...</td>\n",
              "      <td>1</td>\n",
              "    </tr>\n",
              "    <tr>\n",
              "      <th>...</th>\n",
              "      <td>...</td>\n",
              "      <td>...</td>\n",
              "      <td>...</td>\n",
              "    </tr>\n",
              "    <tr>\n",
              "      <th>1465</th>\n",
              "      <td>593</td>\n",
              "      <td>Современное искусство. Малевич, Кандинский, Ша...</td>\n",
              "      <td>1</td>\n",
              "    </tr>\n",
              "    <tr>\n",
              "      <th>1466</th>\n",
              "      <td>596</td>\n",
              "      <td>Очень понравилась выставка Васнецовых. И конеч...</td>\n",
              "      <td>1</td>\n",
              "    </tr>\n",
              "    <tr>\n",
              "      <th>1467</th>\n",
              "      <td>597</td>\n",
              "      <td>Атмосферное место</td>\n",
              "      <td>1</td>\n",
              "    </tr>\n",
              "    <tr>\n",
              "      <th>1468</th>\n",
              "      <td>598</td>\n",
              "      <td>Была на выставкк \"Золотая черепаха\". Фото о пр...</td>\n",
              "      <td>1</td>\n",
              "    </tr>\n",
              "    <tr>\n",
              "      <th>1469</th>\n",
              "      <td>600</td>\n",
              "      <td>Своеобразное место. Но дети уже два года вспом...</td>\n",
              "      <td>0</td>\n",
              "    </tr>\n",
              "  </tbody>\n",
              "</table>\n",
              "<p>1470 rows × 3 columns</p>\n",
              "</div>\n",
              "    <div class=\"colab-df-buttons\">\n",
              "\n",
              "  <div class=\"colab-df-container\">\n",
              "    <button class=\"colab-df-convert\" onclick=\"convertToInteractive('df-aa7ce75d-0208-4a08-b572-9001e5cf3dc3')\"\n",
              "            title=\"Convert this dataframe to an interactive table.\"\n",
              "            style=\"display:none;\">\n",
              "\n",
              "  <svg xmlns=\"http://www.w3.org/2000/svg\" height=\"24px\" viewBox=\"0 -960 960 960\">\n",
              "    <path d=\"M120-120v-720h720v720H120Zm60-500h600v-160H180v160Zm220 220h160v-160H400v160Zm0 220h160v-160H400v160ZM180-400h160v-160H180v160Zm440 0h160v-160H620v160ZM180-180h160v-160H180v160Zm440 0h160v-160H620v160Z\"/>\n",
              "  </svg>\n",
              "    </button>\n",
              "\n",
              "  <style>\n",
              "    .colab-df-container {\n",
              "      display:flex;\n",
              "      gap: 12px;\n",
              "    }\n",
              "\n",
              "    .colab-df-convert {\n",
              "      background-color: #E8F0FE;\n",
              "      border: none;\n",
              "      border-radius: 50%;\n",
              "      cursor: pointer;\n",
              "      display: none;\n",
              "      fill: #1967D2;\n",
              "      height: 32px;\n",
              "      padding: 0 0 0 0;\n",
              "      width: 32px;\n",
              "    }\n",
              "\n",
              "    .colab-df-convert:hover {\n",
              "      background-color: #E2EBFA;\n",
              "      box-shadow: 0px 1px 2px rgba(60, 64, 67, 0.3), 0px 1px 3px 1px rgba(60, 64, 67, 0.15);\n",
              "      fill: #174EA6;\n",
              "    }\n",
              "\n",
              "    .colab-df-buttons div {\n",
              "      margin-bottom: 4px;\n",
              "    }\n",
              "\n",
              "    [theme=dark] .colab-df-convert {\n",
              "      background-color: #3B4455;\n",
              "      fill: #D2E3FC;\n",
              "    }\n",
              "\n",
              "    [theme=dark] .colab-df-convert:hover {\n",
              "      background-color: #434B5C;\n",
              "      box-shadow: 0px 1px 3px 1px rgba(0, 0, 0, 0.15);\n",
              "      filter: drop-shadow(0px 1px 2px rgba(0, 0, 0, 0.3));\n",
              "      fill: #FFFFFF;\n",
              "    }\n",
              "  </style>\n",
              "\n",
              "    <script>\n",
              "      const buttonEl =\n",
              "        document.querySelector('#df-aa7ce75d-0208-4a08-b572-9001e5cf3dc3 button.colab-df-convert');\n",
              "      buttonEl.style.display =\n",
              "        google.colab.kernel.accessAllowed ? 'block' : 'none';\n",
              "\n",
              "      async function convertToInteractive(key) {\n",
              "        const element = document.querySelector('#df-aa7ce75d-0208-4a08-b572-9001e5cf3dc3');\n",
              "        const dataTable =\n",
              "          await google.colab.kernel.invokeFunction('convertToInteractive',\n",
              "                                                    [key], {});\n",
              "        if (!dataTable) return;\n",
              "\n",
              "        const docLinkHtml = 'Like what you see? Visit the ' +\n",
              "          '<a target=\"_blank\" href=https://colab.research.google.com/notebooks/data_table.ipynb>data table notebook</a>'\n",
              "          + ' to learn more about interactive tables.';\n",
              "        element.innerHTML = '';\n",
              "        dataTable['output_type'] = 'display_data';\n",
              "        await google.colab.output.renderOutput(dataTable, element);\n",
              "        const docLink = document.createElement('div');\n",
              "        docLink.innerHTML = docLinkHtml;\n",
              "        element.appendChild(docLink);\n",
              "      }\n",
              "    </script>\n",
              "  </div>\n",
              "\n",
              "\n",
              "<div id=\"df-ef8c226a-17d2-48eb-aded-a776a83d767d\">\n",
              "  <button class=\"colab-df-quickchart\" onclick=\"quickchart('df-ef8c226a-17d2-48eb-aded-a776a83d767d')\"\n",
              "            title=\"Suggest charts\"\n",
              "            style=\"display:none;\">\n",
              "\n",
              "<svg xmlns=\"http://www.w3.org/2000/svg\" height=\"24px\"viewBox=\"0 0 24 24\"\n",
              "     width=\"24px\">\n",
              "    <g>\n",
              "        <path d=\"M19 3H5c-1.1 0-2 .9-2 2v14c0 1.1.9 2 2 2h14c1.1 0 2-.9 2-2V5c0-1.1-.9-2-2-2zM9 17H7v-7h2v7zm4 0h-2V7h2v10zm4 0h-2v-4h2v4z\"/>\n",
              "    </g>\n",
              "</svg>\n",
              "  </button>\n",
              "\n",
              "<style>\n",
              "  .colab-df-quickchart {\n",
              "      --bg-color: #E8F0FE;\n",
              "      --fill-color: #1967D2;\n",
              "      --hover-bg-color: #E2EBFA;\n",
              "      --hover-fill-color: #174EA6;\n",
              "      --disabled-fill-color: #AAA;\n",
              "      --disabled-bg-color: #DDD;\n",
              "  }\n",
              "\n",
              "  [theme=dark] .colab-df-quickchart {\n",
              "      --bg-color: #3B4455;\n",
              "      --fill-color: #D2E3FC;\n",
              "      --hover-bg-color: #434B5C;\n",
              "      --hover-fill-color: #FFFFFF;\n",
              "      --disabled-bg-color: #3B4455;\n",
              "      --disabled-fill-color: #666;\n",
              "  }\n",
              "\n",
              "  .colab-df-quickchart {\n",
              "    background-color: var(--bg-color);\n",
              "    border: none;\n",
              "    border-radius: 50%;\n",
              "    cursor: pointer;\n",
              "    display: none;\n",
              "    fill: var(--fill-color);\n",
              "    height: 32px;\n",
              "    padding: 0;\n",
              "    width: 32px;\n",
              "  }\n",
              "\n",
              "  .colab-df-quickchart:hover {\n",
              "    background-color: var(--hover-bg-color);\n",
              "    box-shadow: 0 1px 2px rgba(60, 64, 67, 0.3), 0 1px 3px 1px rgba(60, 64, 67, 0.15);\n",
              "    fill: var(--button-hover-fill-color);\n",
              "  }\n",
              "\n",
              "  .colab-df-quickchart-complete:disabled,\n",
              "  .colab-df-quickchart-complete:disabled:hover {\n",
              "    background-color: var(--disabled-bg-color);\n",
              "    fill: var(--disabled-fill-color);\n",
              "    box-shadow: none;\n",
              "  }\n",
              "\n",
              "  .colab-df-spinner {\n",
              "    border: 2px solid var(--fill-color);\n",
              "    border-color: transparent;\n",
              "    border-bottom-color: var(--fill-color);\n",
              "    animation:\n",
              "      spin 1s steps(1) infinite;\n",
              "  }\n",
              "\n",
              "  @keyframes spin {\n",
              "    0% {\n",
              "      border-color: transparent;\n",
              "      border-bottom-color: var(--fill-color);\n",
              "      border-left-color: var(--fill-color);\n",
              "    }\n",
              "    20% {\n",
              "      border-color: transparent;\n",
              "      border-left-color: var(--fill-color);\n",
              "      border-top-color: var(--fill-color);\n",
              "    }\n",
              "    30% {\n",
              "      border-color: transparent;\n",
              "      border-left-color: var(--fill-color);\n",
              "      border-top-color: var(--fill-color);\n",
              "      border-right-color: var(--fill-color);\n",
              "    }\n",
              "    40% {\n",
              "      border-color: transparent;\n",
              "      border-right-color: var(--fill-color);\n",
              "      border-top-color: var(--fill-color);\n",
              "    }\n",
              "    60% {\n",
              "      border-color: transparent;\n",
              "      border-right-color: var(--fill-color);\n",
              "    }\n",
              "    80% {\n",
              "      border-color: transparent;\n",
              "      border-right-color: var(--fill-color);\n",
              "      border-bottom-color: var(--fill-color);\n",
              "    }\n",
              "    90% {\n",
              "      border-color: transparent;\n",
              "      border-bottom-color: var(--fill-color);\n",
              "    }\n",
              "  }\n",
              "</style>\n",
              "\n",
              "  <script>\n",
              "    async function quickchart(key) {\n",
              "      const quickchartButtonEl =\n",
              "        document.querySelector('#' + key + ' button');\n",
              "      quickchartButtonEl.disabled = true;  // To prevent multiple clicks.\n",
              "      quickchartButtonEl.classList.add('colab-df-spinner');\n",
              "      try {\n",
              "        const charts = await google.colab.kernel.invokeFunction(\n",
              "            'suggestCharts', [key], {});\n",
              "      } catch (error) {\n",
              "        console.error('Error during call to suggestCharts:', error);\n",
              "      }\n",
              "      quickchartButtonEl.classList.remove('colab-df-spinner');\n",
              "      quickchartButtonEl.classList.add('colab-df-quickchart-complete');\n",
              "    }\n",
              "    (() => {\n",
              "      let quickchartButtonEl =\n",
              "        document.querySelector('#df-ef8c226a-17d2-48eb-aded-a776a83d767d button');\n",
              "      quickchartButtonEl.style.display =\n",
              "        google.colab.kernel.accessAllowed ? 'block' : 'none';\n",
              "    })();\n",
              "  </script>\n",
              "</div>\n",
              "    </div>\n",
              "  </div>\n"
            ],
            "application/vnd.google.colaboratory.intrinsic+json": {
              "type": "dataframe",
              "variable_name": "data",
              "summary": "{\n  \"name\": \"data\",\n  \"rows\": 1470,\n  \"fields\": [\n    {\n      \"column\": \"Index\",\n      \"properties\": {\n        \"dtype\": \"number\",\n        \"std\": 173,\n        \"min\": 1,\n        \"max\": 600,\n        \"num_unique_values\": 600,\n        \"samples\": [\n          111,\n          420,\n          566\n        ],\n        \"semantic_type\": \"\",\n        \"description\": \"\"\n      }\n    },\n    {\n      \"column\": \"Review\",\n      \"properties\": {\n        \"dtype\": \"string\",\n        \"num_unique_values\": 1470,\n        \"samples\": [\n          \"\\u041f\\u043e\\u0441\\u0435\\u0442\\u0438\\u043b\\u0430 \\u0432\\u044b\\u0441\\u0442\\u0430\\u0432\\u043a\\u0443 \\u0438\\u0441\\u0442\\u043e\\u0440\\u0438\\u0438 \\u0440\\u043e\\u0441\\u0441\\u0438\\u0439\\u0441\\u043a\\u043e\\u0433\\u043e \\u0434\\u0438\\u0437\\u0430\\u0439\\u043d\\u0430 \\u0432 \\u0432\\u044b\\u0441\\u0442\\u0430\\u0432\\u043e\\u0447\\u043d\\u043e\\u043c \\u0446\\u0435\\u043d\\u0442\\u0440\\u0435 \\u043d\\u0430 \\u041a\\u0440\\u044b\\u043c\\u0441\\u043a\\u043e\\u043c \\u0432\\u0430\\u043b\\u0443. \\u042d\\u043a\\u0441\\u043f\\u043e\\u043d\\u0430\\u0442\\u043e\\u0432 \\u043d\\u0435\\u043c\\u043d\\u043e\\u0433\\u043e. \\u041f\\u043e\\u044f\\u0441\\u043d\\u0435\\u043d\\u0438\\u044f \\u043e\\u0442\\u0441\\u0443\\u0442\\u0441\\u0442\\u0432\\u0443\\u044e\\u0442. \\u0412\\u044b\\u0441\\u0442\\u0430\\u0432\\u043a\\u0430 \\u0431\\u0435\\u0437 \\u044d\\u043a\\u0441\\u043a\\u0443\\u0440\\u0441\\u043e\\u0432\\u043e\\u0434\\u0430 \\u043d\\u0435 \\u043e\\u0447\\u0435\\u043d\\u044c \\u0438\\u043d\\u0442\\u0435\\u0440\\u0435\\u0441\\u043d\\u0430. \\u0412\\u044b\\u0441\\u0442\\u0430\\u0432\\u043e\\u0447\\u043d\\u044b\\u0439 \\u0446\\u0435\\u043d\\u0442\\u0440 \\u0442\\u0443\\u0441\\u043a\\u043d\\u0435\\u0435\\u0442 \\u0432\\u0441\\u0435 \\u0431\\u043e\\u043b\\u044c\\u0448\\u0435. \\u041e\\u0433\\u0440\\u043e\\u043c\\u043d\\u044b\\u0435 \\u043f\\u043e\\u043c\\u0435\\u0449\\u0435\\u043d\\u0438\\u044f \\u043f\\u0443\\u0441\\u0442\\u0443\\u044e\\u0442. \\u041e\\u0449\\u0443\\u0449\\u0435\\u043d\\u0438\\u0435 \\u0437\\u0430\\u043f\\u0443\\u0441\\u0442\\u0435\\u043d\\u0438\\u044f.\",\n          \"62 \\u0437\\u0430\\u043b\\u0430, \\u043f\\u043e \\u043c\\u043d\\u0435 \\u043c\\u043d\\u043e\\u0433\\u043e\\u0432\\u0430\\u0442\\u043e. \\u0427\\u0435\\u043c \\u0434\\u0430\\u043b\\u044c\\u0448\\u0435, \\u0442\\u0435\\u043c \\u0445\\u043e\\u043b\\u043e\\u0434\\u043d\\u0435\\u0435, \\u043d\\u0430\\u0434\\u043e \\u043d\\u0430 \\u0441\\u0435\\u0431\\u044f \\u0447\\u0442\\u043e-\\u0442\\u043e \\u043d\\u0430\\u043a\\u0438\\u043d\\u0443\\u0442\\u044c. \\u0415\\u0441\\u043b\\u0438 \\u043d\\u0430 \\u0432\\u0445\\u043e\\u0434\\u0435 \\u0440\\u0435\\u0448\\u0430\\u0442, \\u0447\\u0442\\u043e \\u0432\\u044b \\u0432 \\u0432\\u0435\\u0440\\u0445\\u043d\\u0435\\u0439 \\u043e\\u0434\\u0435\\u0436\\u0434\\u0435, \\u0432\\u0430\\u0441 \\u043d\\u0435 \\u043f\\u0440\\u043e\\u043f\\u0443\\u0441\\u0442\\u044f\\u0442, \\u0434\\u0430\\u0436\\u0435 \\u0435\\u0441\\u043b\\u0438 \\u0432\\u044b \\u0431\\u0443\\u0434\\u0435\\u0442\\u0435 \\u0434\\u043e\\u043a\\u0430\\u0437\\u044b\\u0432\\u0430\\u0442\\u044c, \\u0447\\u0442\\u043e \\u044d\\u0442\\u043e \\u043d\\u0435 \\u0432\\u0435\\u0440\\u0445\\u043d\\u044f\\u044f \\u043e\\u0434\\u0435\\u0436\\u0434\\u0430 \\u0438 \\u0442\\u0430\\u043c \\u0445\\u043e\\u043b\\u043e\\u0434\\u043d\\u043e. \\u041f\\u043e\\u0448\\u043b\\u0438 \\u0440\\u0430\\u0437\\u0434\\u0435\\u0442\\u044b\\u0435 \\u043b\\u0435\\u0442\\u043e\\u043c, \\u0437\\u0430\\u043c\\u0451\\u0440\\u0437\\u043b\\u0438. \\u0418 \\u0447\\u0435\\u043c \\u0434\\u0430\\u043b\\u044c\\u0448\\u0435 \\u0438\\u0434\\u0451\\u0448\\u044c, \\u043e\\u0442 \\u0445\\u043e\\u043b\\u043e\\u0434\\u0430 \\u0438 \\u0443\\u0441\\u0442\\u0430\\u043b\\u043e\\u0441\\u0442\\u0438, \\u043f\\u0440\\u043e\\u0441\\u0442\\u043e \\u043f\\u043e\\u0434 \\u043a\\u043e\\u043d\\u0435\\u0446 \\u0431\\u0435\\u0436\\u0438\\u0448\\u044c, \\u0431\\u0435\\u0433\\u043b\\u043e \\u043e\\u0441\\u043c\\u0430\\u0442\\u0440\\u0438\\u0432\\u0430\\u044f \\u043e\\u0441\\u0442\\u0430\\u0432\\u0448\\u0438\\u0435\\u0441\\u044f \\u043a\\u0430\\u0440\\u0442\\u0438\\u043d\\u044b.\",\n          \"\\u0411\\u044b\\u043b \\u043d\\u0435\\u0441\\u043a\\u043e\\u043b\\u044c\\u043a\\u043e \\u0440\\u0430\\u0437 \\u043d\\u0430 \\u0440\\u0430\\u0437\\u043d\\u044b\\u0445 \\u0432\\u044b\\u0441\\u0442\\u0430\\u0432\\u043a\\u0430\\u0445. \\u041e\\u0447\\u0435\\u043d\\u044c \\u0437\\u0434\\u043e\\u0440\\u043e\\u0432\\u043e \\u0432\\u0441\\u0451 \\u043e\\u0440\\u0433\\u0430\\u043d\\u0438\\u0437\\u043e\\u0432\\u0430\\u043d\\u043e\"\n        ],\n        \"semantic_type\": \"\",\n        \"description\": \"\"\n      }\n    },\n    {\n      \"column\": \"label\",\n      \"properties\": {\n        \"dtype\": \"number\",\n        \"std\": 0,\n        \"min\": 0,\n        \"max\": 1,\n        \"num_unique_values\": 2,\n        \"samples\": [\n          0,\n          1\n        ],\n        \"semantic_type\": \"\",\n        \"description\": \"\"\n      }\n    }\n  ]\n}"
            }
          },
          "metadata": {},
          "execution_count": 23
        }
      ],
      "source": [
        "data"
      ]
    },
    {
      "cell_type": "markdown",
      "source": [
        "Структура данных:\n",
        "\n",
        "Индекс (столбец Index).\n",
        "\n",
        "Текст отзыва (столбец Review).\n",
        "\n",
        "Метка тональности (столбец label): 0 - негативный, 1 - позитивный."
      ],
      "metadata": {
        "id": "zDzbF1Lzaf6q"
      }
    },
    {
      "cell_type": "markdown",
      "source": [
        "# Применение исходной модели cointegrated/rubert-tiny-sentiment-balanced :"
      ],
      "metadata": {
        "id": "oV87UGVx_V3N"
      }
    },
    {
      "cell_type": "code",
      "source": [
        "data = pd.read_excel('/content/drive/MyDrive/Colab Notebooks/мифи семестры/1 семестр/хакатон/combined_reviews_with_labels2.xlsx', engine='openpyxl')\n",
        "data = data[['Review', 'label']]\n",
        "\n",
        "# Разделение на обучающую и тестовую выборки\n",
        "train_data, test_data = train_test_split(data, test_size=0.2, stratify=data['label'], random_state=42)\n",
        "\n",
        "# Загрузка предобученной модели и токенизатора\n",
        "model_name = \"cointegrated/rubert-tiny-sentiment-balanced\"\n",
        "tokenizer = AutoTokenizer.from_pretrained(model_name)\n",
        "model = AutoModelForSequenceClassification.from_pretrained(model_name)\n",
        "\n",
        "# Функция для предсказания тональности отзыва\n",
        "def predict_sentiment(review):\n",
        "    encoding = tokenizer(review, padding=True, truncation=True, return_tensors=\"pt\")\n",
        "    with torch.no_grad():\n",
        "        outputs = model(**encoding)\n",
        "        logits = outputs.logits\n",
        "        prediction = torch.argmax(logits, dim=-1).item()\n",
        "\n",
        "    # Оставляем только два класса: 0 (Негативный) и 1 (Позитивный)\n",
        "    if prediction == 2:\n",
        "        # Если метка 2 (нейтральная), то можно отнести к наиболее вероятному классу\n",
        "        prediction = 1 if logits[0][1] > logits[0][0] else 0\n",
        "\n",
        "    sentiment_mapping = {0: \"Негативный\", 1: \"Позитивный\"}\n",
        "    return prediction  # Вернем только метку (0 или 1)\n",
        "\n",
        "# Прогнозирование тональности для тестовой выборки\n",
        "true_labels = test_data['label'].values  # Истинные метки тестовой выборки\n",
        "pred_labels = []\n",
        "\n",
        "for review in test_data['Review']:\n",
        "    pred = predict_sentiment(review)\n",
        "    pred_labels.append(pred)\n",
        "\n",
        "# Вычисление метрик: Accuracy и F1 Score\n",
        "accuracy = accuracy_score(true_labels, pred_labels)\n",
        "f1 = f1_score(true_labels, pred_labels, average='binary')\n",
        "\n",
        "print(f\"Accuracy: {accuracy:.4f}\")\n",
        "print(f\"F1 Score: {f1:.4f}\")"
      ],
      "metadata": {
        "colab": {
          "base_uri": "https://localhost:8080/"
        },
        "id": "JHpi76HR-cHD",
        "outputId": "06b8e9e2-7b5b-4283-9aa0-68f7b4a8ef98"
      },
      "execution_count": null,
      "outputs": [
        {
          "output_type": "stream",
          "name": "stdout",
          "text": [
            "Accuracy: 0.7279\n",
            "F1 Score: 0.7927\n"
          ]
        }
      ]
    },
    {
      "cell_type": "code",
      "source": [
        "# Строим confusion matrix\n",
        "cm = confusion_matrix(true_labels, pred_labels)\n",
        "\n",
        "plt.figure(figsize=(6, 5))\n",
        "sns.heatmap(cm, annot=True, fmt=\"d\", cmap=\"Blues\", xticklabels=[\"Негативный\", \"Позитивный\"], yticklabels=[\"Негативный\", \"Позитивный\"])\n",
        "plt.xlabel(\"Предсказания\")\n",
        "plt.ylabel(\"Реальные метки\")\n",
        "plt.title(\"Confusion Matrix\")\n",
        "plt.show()"
      ],
      "metadata": {
        "colab": {
          "base_uri": "https://localhost:8080/",
          "height": 487
        },
        "id": "IqUCmxbFcQmo",
        "outputId": "f098eb78-81c7-48cd-fa32-9978d9dba181"
      },
      "execution_count": null,
      "outputs": [
        {
          "output_type": "display_data",
          "data": {
            "text/plain": [
              "<Figure size 600x500 with 2 Axes>"
            ],
            "image/png": "[encoded data removed]"
          },
          "metadata": {}
        }
      ]
    },
    {
      "cell_type": "code",
      "source": [
        "# Вычисление precision, recall, f1\n",
        "report = classification_report(true_labels, pred_labels, target_names=[\"Негативный\", \"Позитивный\"], output_dict=True)\n",
        "\n",
        "# Печать метрик для классов 0 и 1\n",
        "for label in report:\n",
        "    if label != 'accuracy' and label != 'macro avg' and label != 'weighted avg':\n",
        "        print(f\"{label}:\")\n",
        "        print(f\"  Precision: {report[label]['precision']:.4f}\")\n",
        "        print(f\"  Recall: {report[label]['recall']:.4f}\")\n",
        "        print(f\"  F1 Score: {report[label]['f1-score']:.4f}\")"
      ],
      "metadata": {
        "colab": {
          "base_uri": "https://localhost:8080/"
        },
        "id": "UnCb1A-ocRQc",
        "outputId": "ed32362c-1fe5-4edb-a759-b31848bbba62"
      },
      "execution_count": null,
      "outputs": [
        {
          "output_type": "stream",
          "name": "stdout",
          "text": [
            "Негативный:\n",
            "  Precision: 0.9839\n",
            "  Recall: 0.4357\n",
            "  F1 Score: 0.6040\n",
            "Позитивный:\n",
            "  Precision: 0.6595\n",
            "  Recall: 0.9935\n",
            "  F1 Score: 0.7927\n"
          ]
        }
      ]
    },
    {
      "cell_type": "markdown",
      "source": [
        "# Далее дообучим данную модель на размеченном датасете:"
      ],
      "metadata": {
        "id": "mKewjlx2bOfA"
      }
    },
    {
      "cell_type": "code",
      "execution_count": null,
      "metadata": {
        "colab": {
          "base_uri": "https://localhost:8080/",
          "height": 427,
          "referenced_widgets": [
            "e5262bc1c36e4aa8aaf7ab624a80b89f",
            "dfcc54d29ca548b6a77f8c3495eea477",
            "7547c50becd74e5aa5d49d1c13649e39",
            "c6cabceeae4848e49e9b7b37a880d331",
            "668c12d20e41411b8f37ff36f3b51b9b",
            "4e289341297c43afac5799932cf1a536",
            "9bad8a47a20c49a6847f91f6f3898fd8",
            "b56c2918408e4781ae2bc629c9a7bec7",
            "beaeace61a004225bb52f9d7f38ec286",
            "850c4d40623f493bae41e197bc66ba6c",
            "da2f1152218f45c6b38aeec2f98d031c",
            "d939a1b95eab45ffaaa4e67567b4e92c",
            "dcb827fb786d4f9cb0e6854480883365",
            "8e1a4eeae9164152b4f0efed44a6f3de",
            "4d932ba2fbfd40319eb54912881be315",
            "b4d3ff715caa46ecab46c62e18c6627d",
            "17590a3bfcc048d89b7cb998bcc4a814",
            "437cfb6b384b4dd7a1998cd3aaaabc3a",
            "804667e1138642a2abc5fa13385bba7a",
            "228f519ba3944f5d918520fc8c10d241",
            "1288aec1cf2f43ddae9c6450b074e7e3",
            "610a62e6eb644ab595e51962e32b815a"
          ]
        },
        "id": "rhdgGsp984W8",
        "outputId": "dd36195b-7aa2-4c0c-eaf9-16de63a46c84"
      },
      "outputs": [
        {
          "output_type": "stream",
          "name": "stderr",
          "text": [
            "Some weights of BertForSequenceClassification were not initialized from the model checkpoint at cointegrated/rubert-tiny-sentiment-balanced and are newly initialized because the shapes did not match:\n",
            "- classifier.bias: found shape torch.Size([3]) in the checkpoint and torch.Size([2]) in the model instantiated\n",
            "- classifier.weight: found shape torch.Size([3, 312]) in the checkpoint and torch.Size([2, 312]) in the model instantiated\n",
            "You should probably TRAIN this model on a down-stream task to be able to use it for predictions and inference.\n"
          ]
        },
        {
          "output_type": "display_data",
          "data": {
            "text/plain": [
              "Map:   0%|          | 0/1118 [00:00<?, ? examples/s]"
            ],
            "application/vnd.jupyter.widget-view+json": {
              "version_major": 2,
              "version_minor": 0,
              "model_id": "e5262bc1c36e4aa8aaf7ab624a80b89f"
            }
          },
          "metadata": {}
        },
        {
          "output_type": "display_data",
          "data": {
            "text/plain": [
              "Map:   0%|          | 0/294 [00:00<?, ? examples/s]"
            ],
            "application/vnd.jupyter.widget-view+json": {
              "version_major": 2,
              "version_minor": 0,
              "model_id": "d939a1b95eab45ffaaa4e67567b4e92c"
            }
          },
          "metadata": {}
        },
        {
          "output_type": "stream",
          "name": "stderr",
          "text": [
            "/usr/local/lib/python3.10/dist-packages/transformers/training_args.py:1575: FutureWarning: `evaluation_strategy` is deprecated and will be removed in version 4.46 of 🤗 Transformers. Use `eval_strategy` instead\n",
            "  warnings.warn(\n",
            "<ipython-input-27-faf2c11e79fc>:50: FutureWarning: `tokenizer` is deprecated and will be removed in version 5.0.0 for `Trainer.__init__`. Use `processing_class` instead.\n",
            "  trainer = Trainer(\n"
          ]
        },
        {
          "output_type": "display_data",
          "data": {
            "text/plain": [
              "<IPython.core.display.HTML object>"
            ],
            "text/html": [
              "\n",
              "    <div>\n",
              "      \n",
              "      <progress value='210' max='210' style='width:300px; height:20px; vertical-align: middle;'></progress>\n",
              "      [210/210 34:28, Epoch 3/3]\n",
              "    </div>\n",
              "    <table border=\"1\" class=\"dataframe\">\n",
              "  <thead>\n",
              " <tr style=\"text-align: left;\">\n",
              "      <th>Epoch</th>\n",
              "      <th>Training Loss</th>\n",
              "      <th>Validation Loss</th>\n",
              "    </tr>\n",
              "  </thead>\n",
              "  <tbody>\n",
              "    <tr>\n",
              "      <td>1</td>\n",
              "      <td>0.381700</td>\n",
              "      <td>0.339868</td>\n",
              "    </tr>\n",
              "    <tr>\n",
              "      <td>2</td>\n",
              "      <td>0.261300</td>\n",
              "      <td>0.278508</td>\n",
              "    </tr>\n",
              "    <tr>\n",
              "      <td>3</td>\n",
              "      <td>0.221200</td>\n",
              "      <td>0.273540</td>\n",
              "    </tr>\n",
              "  </tbody>\n",
              "</table><p>"
            ]
          },
          "metadata": {}
        },
        {
          "output_type": "display_data",
          "data": {
            "text/plain": [
              "<IPython.core.display.HTML object>"
            ],
            "text/html": []
          },
          "metadata": {}
        },
        {
          "output_type": "stream",
          "name": "stdout",
          "text": [
            "Accuracy: 0.9048\n",
            "F1 Score: 0.9073\n"
          ]
        }
      ],
      "source": [
        "data = pd.read_excel('/content/drive/MyDrive/Colab Notebooks/мифи семестры/1 семестр/хакатон/combined_reviews_with_labels2.xlsx', engine='openpyxl')\n",
        "data = data[['Review', 'label']]\n",
        "\n",
        "# Разделение на обучающую и тестовую выборки\n",
        "train_data, test_data = train_test_split(data, test_size=0.2, stratify=data['label'], random_state=42)\n",
        "\n",
        "# Балансировка классов\n",
        "positive = train_data[train_data['label'] == 1]\n",
        "negative = train_data[train_data['label'] == 0]\n",
        "\n",
        "positive_undersampled = resample(positive, replace=False, n_samples=len(negative), random_state=42)\n",
        "undersampled_train_data = pd.concat([positive_undersampled, negative]).sample(frac=1, random_state=42)\n",
        "\n",
        "# Преобразование в Dataset\n",
        "train_dataset = Dataset.from_pandas(undersampled_train_data[['Review', 'label']])\n",
        "test_dataset = Dataset.from_pandas(test_data[['Review', 'label']])\n",
        "\n",
        "# Модель и токенизатор\n",
        "model_name = \"cointegrated/rubert-tiny-sentiment-balanced\"\n",
        "tokenizer = AutoTokenizer.from_pretrained(model_name)\n",
        "\n",
        "# Загрузка модели с корректировкой количества меток\n",
        "model = AutoModelForSequenceClassification.from_pretrained(\n",
        "    model_name,\n",
        "    num_labels=2,\n",
        "    ignore_mismatched_sizes=True  # Игнорирование несовпадения размеров\n",
        ")\n",
        "\n",
        "# Токенизация\n",
        "def tokenize_function(examples):\n",
        "    return tokenizer(examples[\"Review\"], padding=\"max_length\", truncation=True)\n",
        "\n",
        "tokenized_train = train_dataset.map(tokenize_function, batched=True)\n",
        "tokenized_test = test_dataset.map(tokenize_function, batched=True)\n",
        "\n",
        "# Настройки обучения\n",
        "training_args = TrainingArguments(\n",
        "    output_dir=\"./results\",\n",
        "    evaluation_strategy=\"epoch\",\n",
        "    learning_rate=5e-5,\n",
        "    per_device_train_batch_size=16,\n",
        "    num_train_epochs=3,\n",
        "    weight_decay=0.01,\n",
        "    save_total_limit=2,\n",
        "    logging_dir=\"./logs\",\n",
        "    logging_steps=10,\n",
        "    report_to=\"none\",\n",
        ")\n",
        "\n",
        "trainer = Trainer(\n",
        "    model=model,\n",
        "    args=training_args,\n",
        "    train_dataset=tokenized_train,\n",
        "    eval_dataset=tokenized_test,\n",
        "    tokenizer=tokenizer,\n",
        ")\n",
        "\n",
        "# Обучение\n",
        "trainer.train()\n",
        "\n",
        "# Сохранение модели\n",
        "model.save_pretrained(\"./russian_sentiment_model\")\n",
        "tokenizer.save_pretrained(\"./russian_sentiment_model\")\n",
        "\n",
        "# Прогнозы\n",
        "predictions = trainer.predict(tokenized_test)\n",
        "pred_labels = predictions.predictions.argmax(axis=1)\n",
        "true_labels = test_data['label'].values\n",
        "\n",
        "# Метрики\n",
        "accuracy = accuracy_score(true_labels, pred_labels)\n",
        "f1 = f1_score(true_labels, pred_labels, average='binary')\n",
        "\n",
        "print(f\"Accuracy: {accuracy:.4f}\")\n",
        "print(f\"F1 Score: {f1:.4f}\")"
      ]
    },
    {
      "cell_type": "code",
      "source": [
        "# Строим confusion matrix\n",
        "cm = confusion_matrix(true_labels, pred_labels)\n",
        "\n",
        "plt.figure(figsize=(6, 5))\n",
        "sns.heatmap(cm, annot=True, fmt=\"d\", cmap=\"Blues\", xticklabels=[\"Негативный\", \"Позитивный\"], yticklabels=[\"Негативный\", \"Позитивный\"])\n",
        "plt.xlabel(\"Предсказания\")\n",
        "plt.ylabel(\"Реальные метки\")\n",
        "plt.title(\"Confusion Matrix\")\n",
        "plt.show()"
      ],
      "metadata": {
        "colab": {
          "base_uri": "https://localhost:8080/",
          "height": 487
        },
        "id": "XkMU_sgycVRR",
        "outputId": "3ace938f-765d-49ab-de69-ce217f69c49e"
      },
      "execution_count": null,
      "outputs": [
        {
          "output_type": "display_data",
          "data": {
            "text/plain": [
              "<Figure size 600x500 with 2 Axes>"
            ],
            "image/png": "[encoded data removed]"
          },
          "metadata": {}
        }
      ]
    },
    {
      "cell_type": "code",
      "source": [
        "# Вычисление precision, recall, f1\n",
        "report = classification_report(true_labels, pred_labels, target_names=[\"Негативный\", \"Позитивный\"], output_dict=True)\n",
        "\n",
        "# Печать метрик для классов 0 и 1\n",
        "for label in report:\n",
        "    if label != 'accuracy' and label != 'macro avg' and label != 'weighted avg':\n",
        "        print(f\"{label}:\")\n",
        "        print(f\"  Precision: {report[label]['precision']:.4f}\")\n",
        "        print(f\"  Recall: {report[label]['recall']:.4f}\")\n",
        "        print(f\"  F1 Score: {report[label]['f1-score']:.4f}\")"
      ],
      "metadata": {
        "colab": {
          "base_uri": "https://localhost:8080/"
        },
        "id": "zg1qShhtcVmK",
        "outputId": "55313605-1280-4a9b-9ada-342da91f1513"
      },
      "execution_count": null,
      "outputs": [
        {
          "output_type": "stream",
          "name": "stdout",
          "text": [
            "Негативный:\n",
            "  Precision: 0.8836\n",
            "  Recall: 0.9214\n",
            "  F1 Score: 0.9021\n",
            "Позитивный:\n",
            "  Precision: 0.9257\n",
            "  Recall: 0.8896\n",
            "  F1 Score: 0.9073\n"
          ]
        }
      ]
    },
    {
      "cell_type": "markdown",
      "source": [
        "Результаты на дообученной модели имеют лучший результат, чем на исходной моделе"
      ],
      "metadata": {
        "id": "J6kFevkiciKI"
      }
    },
    {
      "cell_type": "markdown",
      "source": [
        "Теперь применим модель на отзывых не из датасета:"
      ],
      "metadata": {
        "id": "gpxCjlZtbff3"
      }
    },
    {
      "cell_type": "code",
      "source": [
        "new_reviews = [\n",
        "    \"Мне очень понравился этот музей, потрясающая коллекция!\",\n",
        "    \"Интересная выставка, но я ожидал большего\",\n",
        "    \"Музей слишком дорогой для того, что он предлагает\"\n",
        "]\n",
        "\n",
        "new_encodings = tokenizer(new_reviews, padding=True, truncation=True, return_tensors=\"pt\")\n",
        "with torch.no_grad():\n",
        "    outputs = model(**new_encodings)\n",
        "    predictions = outputs.logits.argmax(dim=-1)\n",
        "\n",
        "sentiment_mapping = {0: \"Негативный\", 1: \"Позитивный\"}\n",
        "for review, label in zip(new_reviews, predictions):\n",
        "    sentiment = sentiment_mapping[label.item()]\n",
        "    print(f\"Отзыв: {review} -> Тональность: {sentiment}\")"
      ],
      "metadata": {
        "colab": {
          "base_uri": "https://localhost:8080/"
        },
        "id": "kDPlaPnFblZ-",
        "outputId": "e49b125f-e50d-4357-80b3-d17ea9862d4a"
      },
      "execution_count": null,
      "outputs": [
        {
          "output_type": "stream",
          "name": "stdout",
          "text": [
            "Отзыв: Мне очень понравился этот музей, потрясающая коллекция! -> Тональность: Позитивный\n",
            "Отзыв: Интересная выставка, но я ожидал большего -> Тональность: Негативный\n",
            "Отзыв: Музей слишком дорогой для того, что он предлагает -> Тональность: Негативный\n"
          ]
        }
      ]
    },
    {
      "cell_type": "markdown",
      "source": [
        "Полученный ответ является верным по исходной логике разметки"
      ],
      "metadata": {
        "id": "jfsxjou_brTk"
      }
    }
  ],
  "metadata": {
    "colab": {
      "provenance": []
    },
    "kernelspec": {
      "display_name": "Python 3",
      "name": "python3"
    },
    "language_info": {
      "name": "python"
    },
    "widgets": {
      "application/vnd.jupyter.widget-state+json": {
        "e5262bc1c36e4aa8aaf7ab624a80b89f": {
          "model_module": "@jupyter-widgets/controls",
          "model_name": "HBoxModel",
          "model_module_version": "1.5.0",
          "state": {
            "_dom_classes": [],
            "_model_module": "@jupyter-widgets/controls",
            "_model_module_version": "1.5.0",
            "_model_name": "HBoxModel",
            "_view_count": null,
            "_view_module": "@jupyter-widgets/controls",
            "_view_module_version": "1.5.0",
            "_view_name": "HBoxView",
            "box_style": "",
            "children": [
              "IPY_MODEL_dfcc54d29ca548b6a77f8c3495eea477",
              "IPY_MODEL_7547c50becd74e5aa5d49d1c13649e39",
              "IPY_MODEL_c6cabceeae4848e49e9b7b37a880d331"
            ],
            "layout": "IPY_MODEL_668c12d20e41411b8f37ff36f3b51b9b"
          }
        },
        "dfcc54d29ca548b6a77f8c3495eea477": {
          "model_module": "@jupyter-widgets/controls",
          "model_name": "HTMLModel",
          "model_module_version": "1.5.0",
          "state": {
            "_dom_classes": [],
            "_model_module": "@jupyter-widgets/controls",
            "_model_module_version": "1.5.0",
            "_model_name": "HTMLModel",
            "_view_count": null,
            "_view_module": "@jupyter-widgets/controls",
            "_view_module_version": "1.5.0",
            "_view_name": "HTMLView",
            "description": "",
            "description_tooltip": null,
            "layout": "IPY_MODEL_4e289341297c43afac5799932cf1a536",
            "placeholder": "​",
            "style": "IPY_MODEL_9bad8a47a20c49a6847f91f6f3898fd8",
            "value": "Map: 100%"
          }
        },
        "7547c50becd74e5aa5d49d1c13649e39": {
          "model_module": "@jupyter-widgets/controls",
          "model_name": "FloatProgressModel",
          "model_module_version": "1.5.0",
          "state": {
            "_dom_classes": [],
            "_model_module": "@jupyter-widgets/controls",
            "_model_module_version": "1.5.0",
            "_model_name": "FloatProgressModel",
            "_view_count": null,
            "_view_module": "@jupyter-widgets/controls",
            "_view_module_version": "1.5.0",
            "_view_name": "ProgressView",
            "bar_style": "success",
            "description": "",
            "description_tooltip": null,
            "layout": "IPY_MODEL_b56c2918408e4781ae2bc629c9a7bec7",
            "max": 1118,
            "min": 0,
            "orientation": "horizontal",
            "style": "IPY_MODEL_beaeace61a004225bb52f9d7f38ec286",
            "value": 1118
          }
        },
        "c6cabceeae4848e49e9b7b37a880d331": {
          "model_module": "@jupyter-widgets/controls",
          "model_name": "HTMLModel",
          "model_module_version": "1.5.0",
          "state": {
            "_dom_classes": [],
            "_model_module": "@jupyter-widgets/controls",
            "_model_module_version": "1.5.0",
            "_model_name": "HTMLModel",
            "_view_count": null,
            "_view_module": "@jupyter-widgets/controls",
            "_view_module_version": "1.5.0",
            "_view_name": "HTMLView",
            "description": "",
            "description_tooltip": null,
            "layout": "IPY_MODEL_850c4d40623f493bae41e197bc66ba6c",
            "placeholder": "​",
            "style": "IPY_MODEL_da2f1152218f45c6b38aeec2f98d031c",
            "value": " 1118/1118 [00:01&lt;00:00, 815.71 examples/s]"
          }
        },
        "668c12d20e41411b8f37ff36f3b51b9b": {
          "model_module": "@jupyter-widgets/base",
          "model_name": "LayoutModel",
          "model_module_version": "1.2.0",
          "state": {
            "_model_module": "@jupyter-widgets/base",
            "_model_module_version": "1.2.0",
            "_model_name": "LayoutModel",
            "_view_count": null,
            "_view_module": "@jupyter-widgets/base",
            "_view_module_version": "1.2.0",
            "_view_name": "LayoutView",
            "align_content": null,
            "align_items": null,
            "align_self": null,
            "border": null,
            "bottom": null,
            "display": null,
            "flex": null,
            "flex_flow": null,
            "grid_area": null,
            "grid_auto_columns": null,
            "grid_auto_flow": null,
            "grid_auto_rows": null,
            "grid_column": null,
            "grid_gap": null,
            "grid_row": null,
            "grid_template_areas": null,
            "grid_template_columns": null,
            "grid_template_rows": null,
            "height": null,
            "justify_content": null,
            "justify_items": null,
            "left": null,
            "margin": null,
            "max_height": null,
            "max_width": null,
            "min_height": null,
            "min_width": null,
            "object_fit": null,
            "object_position": null,
            "order": null,
            "overflow": null,
            "overflow_x": null,
            "overflow_y": null,
            "padding": null,
            "right": null,
            "top": null,
            "visibility": null,
            "width": null
          }
        },
        "4e289341297c43afac5799932cf1a536": {
          "model_module": "@jupyter-widgets/base",
          "model_name": "LayoutModel",
          "model_module_version": "1.2.0",
          "state": {
            "_model_module": "@jupyter-widgets/base",
            "_model_module_version": "1.2.0",
            "_model_name": "LayoutModel",
            "_view_count": null,
            "_view_module": "@jupyter-widgets/base",
            "_view_module_version": "1.2.0",
            "_view_name": "LayoutView",
            "align_content": null,
            "align_items": null,
            "align_self": null,
            "border": null,
            "bottom": null,
            "display": null,
            "flex": null,
            "flex_flow": null,
            "grid_area": null,
            "grid_auto_columns": null,
            "grid_auto_flow": null,
            "grid_auto_rows": null,
            "grid_column": null,
            "grid_gap": null,
            "grid_row": null,
            "grid_template_areas": null,
            "grid_template_columns": null,
            "grid_template_rows": null,
            "height": null,
            "justify_content": null,
            "justify_items": null,
            "left": null,
            "margin": null,
            "max_height": null,
            "max_width": null,
            "min_height": null,
            "min_width": null,
            "object_fit": null,
            "object_position": null,
            "order": null,
            "overflow": null,
            "overflow_x": null,
            "overflow_y": null,
            "padding": null,
            "right": null,
            "top": null,
            "visibility": null,
            "width": null
          }
        },
        "9bad8a47a20c49a6847f91f6f3898fd8": {
          "model_module": "@jupyter-widgets/controls",
          "model_name": "DescriptionStyleModel",
          "model_module_version": "1.5.0",
          "state": {
            "_model_module": "@jupyter-widgets/controls",
            "_model_module_version": "1.5.0",
            "_model_name": "DescriptionStyleModel",
            "_view_count": null,
            "_view_module": "@jupyter-widgets/base",
            "_view_module_version": "1.2.0",
            "_view_name": "StyleView",
            "description_width": ""
          }
        },
        "b56c2918408e4781ae2bc629c9a7bec7": {
          "model_module": "@jupyter-widgets/base",
          "model_name": "LayoutModel",
          "model_module_version": "1.2.0",
          "state": {
            "_model_module": "@jupyter-widgets/base",
            "_model_module_version": "1.2.0",
            "_model_name": "LayoutModel",
            "_view_count": null,
            "_view_module": "@jupyter-widgets/base",
            "_view_module_version": "1.2.0",
            "_view_name": "LayoutView",
            "align_content": null,
            "align_items": null,
            "align_self": null,
            "border": null,
            "bottom": null,
            "display": null,
            "flex": null,
            "flex_flow": null,
            "grid_area": null,
            "grid_auto_columns": null,
            "grid_auto_flow": null,
            "grid_auto_rows": null,
            "grid_column": null,
            "grid_gap": null,
            "grid_row": null,
            "grid_template_areas": null,
            "grid_template_columns": null,
            "grid_template_rows": null,
            "height": null,
            "justify_content": null,
            "justify_items": null,
            "left": null,
            "margin": null,
            "max_height": null,
            "max_width": null,
            "min_height": null,
            "min_width": null,
            "object_fit": null,
            "object_position": null,
            "order": null,
            "overflow": null,
            "overflow_x": null,
            "overflow_y": null,
            "padding": null,
            "right": null,
            "top": null,
            "visibility": null,
            "width": null
          }
        },
        "beaeace61a004225bb52f9d7f38ec286": {
          "model_module": "@jupyter-widgets/controls",
          "model_name": "ProgressStyleModel",
          "model_module_version": "1.5.0",
          "state": {
            "_model_module": "@jupyter-widgets/controls",
            "_model_module_version": "1.5.0",
            "_model_name": "ProgressStyleModel",
            "_view_count": null,
            "_view_module": "@jupyter-widgets/base",
            "_view_module_version": "1.2.0",
            "_view_name": "StyleView",
            "bar_color": null,
            "description_width": ""
          }
        },
        "850c4d40623f493bae41e197bc66ba6c": {
          "model_module": "@jupyter-widgets/base",
          "model_name": "LayoutModel",
          "model_module_version": "1.2.0",
          "state": {
            "_model_module": "@jupyter-widgets/base",
            "_model_module_version": "1.2.0",
            "_model_name": "LayoutModel",
            "_view_count": null,
            "_view_module": "@jupyter-widgets/base",
            "_view_module_version": "1.2.0",
            "_view_name": "LayoutView",
            "align_content": null,
            "align_items": null,
            "align_self": null,
            "border": null,
            "bottom": null,
            "display": null,
            "flex": null,
            "flex_flow": null,
            "grid_area": null,
            "grid_auto_columns": null,
            "grid_auto_flow": null,
            "grid_auto_rows": null,
            "grid_column": null,
            "grid_gap": null,
            "grid_row": null,
            "grid_template_areas": null,
            "grid_template_columns": null,
            "grid_template_rows": null,
            "height": null,
            "justify_content": null,
            "justify_items": null,
            "left": null,
            "margin": null,
            "max_height": null,
            "max_width": null,
            "min_height": null,
            "min_width": null,
            "object_fit": null,
            "object_position": null,
            "order": null,
            "overflow": null,
            "overflow_x": null,
            "overflow_y": null,
            "padding": null,
            "right": null,
            "top": null,
            "visibility": null,
            "width": null
          }
        },
        "da2f1152218f45c6b38aeec2f98d031c": {
          "model_module": "@jupyter-widgets/controls",
          "model_name": "DescriptionStyleModel",
          "model_module_version": "1.5.0",
          "state": {
            "_model_module": "@jupyter-widgets/controls",
            "_model_module_version": "1.5.0",
            "_model_name": "DescriptionStyleModel",
            "_view_count": null,
            "_view_module": "@jupyter-widgets/base",
            "_view_module_version": "1.2.0",
            "_view_name": "StyleView",
            "description_width": ""
          }
        },
        "d939a1b95eab45ffaaa4e67567b4e92c": {
          "model_module": "@jupyter-widgets/controls",
          "model_name": "HBoxModel",
          "model_module_version": "1.5.0",
          "state": {
            "_dom_classes": [],
            "_model_module": "@jupyter-widgets/controls",
            "_model_module_version": "1.5.0",
            "_model_name": "HBoxModel",
            "_view_count": null,
            "_view_module": "@jupyter-widgets/controls",
            "_view_module_version": "1.5.0",
            "_view_name": "HBoxView",
            "box_style": "",
            "children": [
              "IPY_MODEL_dcb827fb786d4f9cb0e6854480883365",
              "IPY_MODEL_8e1a4eeae9164152b4f0efed44a6f3de",
              "IPY_MODEL_4d932ba2fbfd40319eb54912881be315"
            ],
            "layout": "IPY_MODEL_b4d3ff715caa46ecab46c62e18c6627d"
          }
        },
        "dcb827fb786d4f9cb0e6854480883365": {
          "model_module": "@jupyter-widgets/controls",
          "model_name": "HTMLModel",
          "model_module_version": "1.5.0",
          "state": {
            "_dom_classes": [],
            "_model_module": "@jupyter-widgets/controls",
            "_model_module_version": "1.5.0",
            "_model_name": "HTMLModel",
            "_view_count": null,
            "_view_module": "@jupyter-widgets/controls",
            "_view_module_version": "1.5.0",
            "_view_name": "HTMLView",
            "description": "",
            "description_tooltip": null,
            "layout": "IPY_MODEL_17590a3bfcc048d89b7cb998bcc4a814",
            "placeholder": "​",
            "style": "IPY_MODEL_437cfb6b384b4dd7a1998cd3aaaabc3a",
            "value": "Map: 100%"
          }
        },
        "8e1a4eeae9164152b4f0efed44a6f3de": {
          "model_module": "@jupyter-widgets/controls",
          "model_name": "FloatProgressModel",
          "model_module_version": "1.5.0",
          "state": {
            "_dom_classes": [],
            "_model_module": "@jupyter-widgets/controls",
            "_model_module_version": "1.5.0",
            "_model_name": "FloatProgressModel",
            "_view_count": null,
            "_view_module": "@jupyter-widgets/controls",
            "_view_module_version": "1.5.0",
            "_view_name": "ProgressView",
            "bar_style": "success",
            "description": "",
            "description_tooltip": null,
            "layout": "IPY_MODEL_804667e1138642a2abc5fa13385bba7a",
            "max": 294,
            "min": 0,
            "orientation": "horizontal",
            "style": "IPY_MODEL_228f519ba3944f5d918520fc8c10d241",
            "value": 294
          }
        },
        "4d932ba2fbfd40319eb54912881be315": {
          "model_module": "@jupyter-widgets/controls",
          "model_name": "HTMLModel",
          "model_module_version": "1.5.0",
          "state": {
            "_dom_classes": [],
            "_model_module": "@jupyter-widgets/controls",
            "_model_module_version": "1.5.0",
            "_model_name": "HTMLModel",
            "_view_count": null,
            "_view_module": "@jupyter-widgets/controls",
            "_view_module_version": "1.5.0",
            "_view_name": "HTMLView",
            "description": "",
            "description_tooltip": null,
            "layout": "IPY_MODEL_1288aec1cf2f43ddae9c6450b074e7e3",
            "placeholder": "​",
            "style": "IPY_MODEL_610a62e6eb644ab595e51962e32b815a",
            "value": " 294/294 [00:00&lt;00:00, 564.02 examples/s]"
          }
        },
        "b4d3ff715caa46ecab46c62e18c6627d": {
          "model_module": "@jupyter-widgets/base",
          "model_name": "LayoutModel",
          "model_module_version": "1.2.0",
          "state": {
            "_model_module": "@jupyter-widgets/base",
            "_model_module_version": "1.2.0",
            "_model_name": "LayoutModel",
            "_view_count": null,
            "_view_module": "@jupyter-widgets/base",
            "_view_module_version": "1.2.0",
            "_view_name": "LayoutView",
            "align_content": null,
            "align_items": null,
            "align_self": null,
            "border": null,
            "bottom": null,
            "display": null,
            "flex": null,
            "flex_flow": null,
            "grid_area": null,
            "grid_auto_columns": null,
            "grid_auto_flow": null,
            "grid_auto_rows": null,
            "grid_column": null,
            "grid_gap": null,
            "grid_row": null,
            "grid_template_areas": null,
            "grid_template_columns": null,
            "grid_template_rows": null,
            "height": null,
            "justify_content": null,
            "justify_items": null,
            "left": null,
            "margin": null,
            "max_height": null,
            "max_width": null,
            "min_height": null,
            "min_width": null,
            "object_fit": null,
            "object_position": null,
            "order": null,
            "overflow": null,
            "overflow_x": null,
            "overflow_y": null,
            "padding": null,
            "right": null,
            "top": null,
            "visibility": null,
            "width": null
          }
        },
        "17590a3bfcc048d89b7cb998bcc4a814": {
          "model_module": "@jupyter-widgets/base",
          "model_name": "LayoutModel",
          "model_module_version": "1.2.0",
          "state": {
            "_model_module": "@jupyter-widgets/base",
            "_model_module_version": "1.2.0",
            "_model_name": "LayoutModel",
            "_view_count": null,
            "_view_module": "@jupyter-widgets/base",
            "_view_module_version": "1.2.0",
            "_view_name": "LayoutView",
            "align_content": null,
            "align_items": null,
            "align_self": null,
            "border": null,
            "bottom": null,
            "display": null,
            "flex": null,
            "flex_flow": null,
            "grid_area": null,
            "grid_auto_columns": null,
            "grid_auto_flow": null,
            "grid_auto_rows": null,
            "grid_column": null,
            "grid_gap": null,
            "grid_row": null,
            "grid_template_areas": null,
            "grid_template_columns": null,
            "grid_template_rows": null,
            "height": null,
            "justify_content": null,
            "justify_items": null,
            "left": null,
            "margin": null,
            "max_height": null,
            "max_width": null,
            "min_height": null,
            "min_width": null,
            "object_fit": null,
            "object_position": null,
            "order": null,
            "overflow": null,
            "overflow_x": null,
            "overflow_y": null,
            "padding": null,
            "right": null,
            "top": null,
            "visibility": null,
            "width": null
          }
        },
        "437cfb6b384b4dd7a1998cd3aaaabc3a": {
          "model_module": "@jupyter-widgets/controls",
          "model_name": "DescriptionStyleModel",
          "model_module_version": "1.5.0",
          "state": {
            "_model_module": "@jupyter-widgets/controls",
            "_model_module_version": "1.5.0",
            "_model_name": "DescriptionStyleModel",
            "_view_count": null,
            "_view_module": "@jupyter-widgets/base",
            "_view_module_version": "1.2.0",
            "_view_name": "StyleView",
            "description_width": ""
          }
        },
        "804667e1138642a2abc5fa13385bba7a": {
          "model_module": "@jupyter-widgets/base",
          "model_name": "LayoutModel",
          "model_module_version": "1.2.0",
          "state": {
            "_model_module": "@jupyter-widgets/base",
            "_model_module_version": "1.2.0",
            "_model_name": "LayoutModel",
            "_view_count": null,
            "_view_module": "@jupyter-widgets/base",
            "_view_module_version": "1.2.0",
            "_view_name": "LayoutView",
            "align_content": null,
            "align_items": null,
            "align_self": null,
            "border": null,
            "bottom": null,
            "display": null,
            "flex": null,
            "flex_flow": null,
            "grid_area": null,
            "grid_auto_columns": null,
            "grid_auto_flow": null,
            "grid_auto_rows": null,
            "grid_column": null,
            "grid_gap": null,
            "grid_row": null,
            "grid_template_areas": null,
            "grid_template_columns": null,
            "grid_template_rows": null,
            "height": null,
            "justify_content": null,
            "justify_items": null,
            "left": null,
            "margin": null,
            "max_height": null,
            "max_width": null,
            "min_height": null,
            "min_width": null,
            "object_fit": null,
            "object_position": null,
            "order": null,
            "overflow": null,
            "overflow_x": null,
            "overflow_y": null,
            "padding": null,
            "right": null,
            "top": null,
            "visibility": null,
            "width": null
          }
        },
        "228f519ba3944f5d918520fc8c10d241": {
          "model_module": "@jupyter-widgets/controls",
          "model_name": "ProgressStyleModel",
          "model_module_version": "1.5.0",
          "state": {
            "_model_module": "@jupyter-widgets/controls",
            "_model_module_version": "1.5.0",
            "_model_name": "ProgressStyleModel",
            "_view_count": null,
            "_view_module": "@jupyter-widgets/base",
            "_view_module_version": "1.2.0",
            "_view_name": "StyleView",
            "bar_color": null,
            "description_width": ""
          }
        },
        "1288aec1cf2f43ddae9c6450b074e7e3": {
          "model_module": "@jupyter-widgets/base",
          "model_name": "LayoutModel",
          "model_module_version": "1.2.0",
          "state": {
            "_model_module": "@jupyter-widgets/base",
            "_model_module_version": "1.2.0",
            "_model_name": "LayoutModel",
            "_view_count": null,
            "_view_module": "@jupyter-widgets/base",
            "_view_module_version": "1.2.0",
            "_view_name": "LayoutView",
            "align_content": null,
            "align_items": null,
            "align_self": null,
            "border": null,
            "bottom": null,
            "display": null,
            "flex": null,
            "flex_flow": null,
            "grid_area": null,
            "grid_auto_columns": null,
            "grid_auto_flow": null,
            "grid_auto_rows": null,
            "grid_column": null,
            "grid_gap": null,
            "grid_row": null,
            "grid_template_areas": null,
            "grid_template_columns": null,
            "grid_template_rows": null,
            "height": null,
            "justify_content": null,
            "justify_items": null,
            "left": null,
            "margin": null,
            "max_height": null,
            "max_width": null,
            "min_height": null,
            "min_width": null,
            "object_fit": null,
            "object_position": null,
            "order": null,
            "overflow": null,
            "overflow_x": null,
            "overflow_y": null,
            "padding": null,
            "right": null,
            "top": null,
            "visibility": null,
            "width": null
          }
        },
        "610a62e6eb644ab595e51962e32b815a": {
          "model_module": "@jupyter-widgets/controls",
          "model_name": "DescriptionStyleModel",
          "model_module_version": "1.5.0",
          "state": {
            "_model_module": "@jupyter-widgets/controls",
            "_model_module_version": "1.5.0",
            "_model_name": "DescriptionStyleModel",
            "_view_count": null,
            "_view_module": "@jupyter-widgets/base",
            "_view_module_version": "1.2.0",
            "_view_name": "StyleView",
            "description_width": ""
          }
        }
      }
    }
  },
  "nbformat": 4,
  "nbformat_minor": 0
}